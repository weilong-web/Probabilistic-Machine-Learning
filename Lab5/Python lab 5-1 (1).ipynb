{
 "cells": [
  {
   "cell_type": "markdown",
   "metadata": {},
   "source": [
    "# Gaussian Mixture models"
   ]
  },
  {
   "cell_type": "code",
   "execution_count": 1,
   "metadata": {},
   "outputs": [],
   "source": [
    "import matplotlib.pyplot as plt\n",
    "%matplotlib inline\n",
    "import pandas as pd\n",
    "import numpy as np\n",
    "\n",
    "from sklearn import datasets\n",
    "from sklearn.mixture import GaussianMixture\n",
    "from sklearn.mixture import BayesianGaussianMixture\n",
    "\n",
    "from sklearn.preprocessing import StandardScaler"
   ]
  },
  {
   "cell_type": "markdown",
   "metadata": {},
   "source": [
    "### Load the Iris dataset\n",
    "\n",
    "The Iris Dataset. This data sets consists of 3 different types of irises' (Setosa, Versicolour, and Virginica) petal and sepal length, stored in a 150x4 numpy.ndarray. The rows being the samples and the columns being: Sepal Length, Sepal Width, Petal Length and Petal Width. The below plot uses the first two features."
   ]
  },
  {
   "cell_type": "code",
   "execution_count": 2,
   "metadata": {},
   "outputs": [
    {
     "name": "stdout",
     "output_type": "stream",
     "text": [
      "(150, 4)\n"
     ]
    },
    {
     "data": {
      "text/html": [
       "<div>\n",
       "<style scoped>\n",
       "    .dataframe tbody tr th:only-of-type {\n",
       "        vertical-align: middle;\n",
       "    }\n",
       "\n",
       "    .dataframe tbody tr th {\n",
       "        vertical-align: top;\n",
       "    }\n",
       "\n",
       "    .dataframe thead th {\n",
       "        text-align: right;\n",
       "    }\n",
       "</style>\n",
       "<table border=\"1\" class=\"dataframe\">\n",
       "  <thead>\n",
       "    <tr style=\"text-align: right;\">\n",
       "      <th></th>\n",
       "      <th>sepal length (cm)</th>\n",
       "      <th>sepal width (cm)</th>\n",
       "      <th>petal length (cm)</th>\n",
       "      <th>petal width (cm)</th>\n",
       "    </tr>\n",
       "  </thead>\n",
       "  <tbody>\n",
       "    <tr>\n",
       "      <th>0</th>\n",
       "      <td>5.1</td>\n",
       "      <td>3.5</td>\n",
       "      <td>1.4</td>\n",
       "      <td>0.2</td>\n",
       "    </tr>\n",
       "    <tr>\n",
       "      <th>1</th>\n",
       "      <td>4.9</td>\n",
       "      <td>3.0</td>\n",
       "      <td>1.4</td>\n",
       "      <td>0.2</td>\n",
       "    </tr>\n",
       "    <tr>\n",
       "      <th>2</th>\n",
       "      <td>4.7</td>\n",
       "      <td>3.2</td>\n",
       "      <td>1.3</td>\n",
       "      <td>0.2</td>\n",
       "    </tr>\n",
       "    <tr>\n",
       "      <th>3</th>\n",
       "      <td>4.6</td>\n",
       "      <td>3.1</td>\n",
       "      <td>1.5</td>\n",
       "      <td>0.2</td>\n",
       "    </tr>\n",
       "    <tr>\n",
       "      <th>4</th>\n",
       "      <td>5.0</td>\n",
       "      <td>3.6</td>\n",
       "      <td>1.4</td>\n",
       "      <td>0.2</td>\n",
       "    </tr>\n",
       "  </tbody>\n",
       "</table>\n",
       "</div>"
      ],
      "text/plain": [
       "   sepal length (cm)  sepal width (cm)  petal length (cm)  petal width (cm)\n",
       "0                5.1               3.5                1.4               0.2\n",
       "1                4.9               3.0                1.4               0.2\n",
       "2                4.7               3.2                1.3               0.2\n",
       "3                4.6               3.1                1.5               0.2\n",
       "4                5.0               3.6                1.4               0.2"
      ]
     },
     "execution_count": 2,
     "metadata": {},
     "output_type": "execute_result"
    }
   ],
   "source": [
    "iris = datasets.load_iris()\n",
    "#next we import it into a pandas frame for convenience (not necessry)\n",
    "pdiris = pd.DataFrame(iris.data, columns=iris.feature_names)\n",
    "print(pdiris.shape)\n",
    "pdiris.head()"
   ]
  },
  {
   "cell_type": "markdown",
   "metadata": {},
   "source": [
    "### Plots \n",
    "\n",
    "Below we will see some 2d plots just to get a feel of the data. There appears to be some clustering but it is hard to infer the number of clusters of the 4d datasets from 2d plots. "
   ]
  },
  {
   "cell_type": "code",
   "execution_count": 3,
   "metadata": {},
   "outputs": [
    {
     "data": {
      "text/plain": [
       "Text(0, 0.5, 'petal length (cm)')"
      ]
     },
     "execution_count": 3,
     "metadata": {},
     "output_type": "execute_result"
    },
    {
     "data": {
      "image/png": "[encoded data removed]",
      "text/plain": [
       "<Figure size 432x288 with 1 Axes>"
      ]
     },
     "metadata": {
      "needs_background": "light"
     },
     "output_type": "display_data"
    }
   ],
   "source": [
    "plt.plot(pdiris['sepal length (cm)'], pdiris['petal length (cm)'], 'o')\n",
    "plt.xlabel('sepal length (cm)')\n",
    "plt.ylabel('petal length (cm)')"
   ]
  },
  {
   "cell_type": "code",
   "execution_count": 4,
   "metadata": {},
   "outputs": [
    {
     "data": {
      "text/plain": [
       "Text(0, 0.5, 'petal width (cm)')"
      ]
     },
     "execution_count": 4,
     "metadata": {},
     "output_type": "execute_result"
    },
    {
     "data": {
      "image/png": "[encoded data removed]",
      "text/plain": [
       "<Figure size 432x288 with 1 Axes>"
      ]
     },
     "metadata": {
      "needs_background": "light"
     },
     "output_type": "display_data"
    }
   ],
   "source": [
    "plt.plot(pdiris['sepal width (cm)'], pdiris['petal width (cm)'], 'o')\n",
    "plt.xlabel('sepal width (cm)')\n",
    "plt.ylabel('petal width (cm)')"
   ]
  },
  {
   "cell_type": "markdown",
   "metadata": {},
   "source": [
    "### Fitting GMMs using the EM algorithm\n",
    "\n",
    "The code for doing so is given below. The '.fit' bit obtains the maximum likelihood estimations of means and covariances that can be viewed using '.means_' and '.covariances_'\n",
    "\n",
    "We start by inspecting and visualisibg a 2-d dataset with only the 'sepal width (cm)' and 'petal width (cm)' variables. The full dataset is analysed afterwards"
   ]
  },
  {
   "cell_type": "code",
   "execution_count": 5,
   "metadata": {},
   "outputs": [
    {
     "name": "stdout",
     "output_type": "stream",
     "text": [
      "[[3.44312706 0.24524535]\n",
      " [2.8682708  1.66689483]]\n",
      "\n",
      "\n",
      "[[[0.12543252 0.01006202]\n",
      "  [0.01006202 0.01098207]]\n",
      "\n",
      " [[0.11104185 0.08380788]\n",
      "  [0.08380788 0.18987438]]]\n"
     ]
    }
   ],
   "source": [
    "vars = ['sepal width (cm)','petal width (cm)']\n",
    "gmm = GaussianMixture(n_components=2)\n",
    "gmm.fit(pdiris[vars])\n",
    "print(gmm.means_)\n",
    "print('\\n')\n",
    "print(gmm.covariances_)"
   ]
  },
  {
   "cell_type": "markdown",
   "metadata": {},
   "source": [
    "### Soft allocation of individuals to clusters\n",
    "\n",
    "GMM method does not necesarily allocates individuals with certainty but with probabilities.\n",
    "\n",
    "Adding the probabilities can give as an ideas of how many objects each cluster has."
   ]
  },
  {
   "cell_type": "code",
   "execution_count": 6,
   "metadata": {},
   "outputs": [
    {
     "name": "stdout",
     "output_type": "stream",
     "text": [
      "[ 49.29382506 100.70617494]\n",
      "[[1.    0.   ]\n",
      " [1.    0.   ]\n",
      " [0.999 0.001]\n",
      " [1.    0.   ]\n",
      " [1.    0.   ]\n",
      " [1.    0.   ]\n",
      " [1.    0.   ]\n",
      " [1.    0.   ]\n",
      " [1.    0.   ]\n",
      " [1.    0.   ]\n",
      " [1.    0.   ]\n",
      " [1.    0.   ]\n",
      " [1.    0.   ]\n",
      " [1.    0.   ]\n",
      " [1.    0.   ]\n",
      " [1.    0.   ]\n",
      " [1.    0.   ]\n",
      " [1.    0.   ]\n",
      " [1.    0.   ]\n",
      " [1.    0.   ]\n",
      " [0.3   0.7  ]\n",
      " [1.    0.   ]\n",
      " [0.997 0.003]\n",
      " [1.    0.   ]\n",
      " [1.    0.   ]\n",
      " [1.    0.   ]\n",
      " [1.    0.   ]\n",
      " [1.    0.   ]\n",
      " [1.    0.   ]]\n"
     ]
    }
   ],
   "source": [
    "probs = gmm.predict_proba(pdiris[vars])\n",
    "print(np.sum(probs,axis=0))\n",
    "print(probs[21:50].round(3))"
   ]
  },
  {
   "cell_type": "markdown",
   "metadata": {},
   "source": [
    "### Model Search\n",
    "\n",
    "We need to fit models wiht different numbers of cluster and different type of covariance matrices to identify the best one. This is done via the information-theoretic criteria (BIC) (the smaller the better in this case)\n",
    "\n",
    "Types of covariance matrices:\n",
    " - spherical: each cluster k has covariance $\\sigma^2_k I$\n",
    " - tied: full covariance matrix but the same across clusters\n",
    " - diag: diagonal covariance matrix, different for each cluster\n",
    " - full: full covariance matrix, different for each cluster\n",
    " \n",
    " Write your code in the following cell. It is recommended to save your output in a Panda dataframe and print mean and covaiance of the best GMM."
   ]
  },
  {
   "cell_type": "code",
   "execution_count": 83,
   "metadata": {},
   "outputs": [],
   "source": [
    "def gmm_best(X, n_components, cov_types):\n",
    "    results = []\n",
    "    for n in n_components:\n",
    "        for c in cov_types:\n",
    "            gmm = GaussianMixture(n_components=n, covariance_type=c, random_state=None)\n",
    "            gmm.fit(X)\n",
    "            bic = gmm.bic(X)\n",
    "            results.append({'n_components': n, 'cov_type': c, 'bic': bic})\n",
    "            \n",
    "    df = pd.DataFrame(results)\n",
    "    \n",
    "    best_gmm = df.loc[df['bic'].idxmin()]\n",
    "    best_clusters = best_gmm['n_components']\n",
    "    best_cov_type = best_gmm['cov_type']\n",
    "    return best_clusters, best_cov_type"
   ]
  },
  {
   "cell_type": "code",
   "execution_count": 84,
   "metadata": {},
   "outputs": [
    {
     "name": "stderr",
     "output_type": "stream",
     "text": [
      "C:\\Anaconda\\lib\\site-packages\\sklearn\\cluster\\_kmeans.py:1036: UserWarning: KMeans is known to have a memory leak on Windows with MKL, when there are less chunks than available threads. You can avoid it by setting the environment variable OMP_NUM_THREADS=1.\n",
      "  warnings.warn(\n",
      "C:\\Anaconda\\lib\\site-packages\\sklearn\\cluster\\_kmeans.py:1036: UserWarning: KMeans is known to have a memory leak on Windows with MKL, when there are less chunks than available threads. You can avoid it by setting the environment variable OMP_NUM_THREADS=1.\n",
      "  warnings.warn(\n",
      "C:\\Anaconda\\lib\\site-packages\\sklearn\\cluster\\_kmeans.py:1036: UserWarning: KMeans is known to have a memory leak on Windows with MKL, when there are less chunks than available threads. You can avoid it by setting the environment variable OMP_NUM_THREADS=1.\n",
      "  warnings.warn(\n",
      "C:\\Anaconda\\lib\\site-packages\\sklearn\\cluster\\_kmeans.py:1036: UserWarning: KMeans is known to have a memory leak on Windows with MKL, when there are less chunks than available threads. You can avoid it by setting the environment variable OMP_NUM_THREADS=1.\n",
      "  warnings.warn(\n"
     ]
    },
    {
     "data": {
      "text/plain": [
       "(2, 'full')"
      ]
     },
     "execution_count": 84,
     "metadata": {},
     "output_type": "execute_result"
    }
   ],
   "source": [
    "n_components = np.arange(1,15)\n",
    "cov_types = ['spherical', 'tied', 'diag', 'full']\n",
    "\n",
    "vars = ['sepal length (cm)', 'sepal width (cm)', 'petal length (cm)', 'petal width (cm)']\n",
    "X = pdiris[vars]\n",
    "best_clusters, best_cov_type = gmm_best(X, n_components, cov_types)\n",
    "best_clusters, best_cov_type"
   ]
  },
  {
   "cell_type": "markdown",
   "metadata": {},
   "source": [
    "Repeat the analysis using only two of the four variables. Do we get a different conclusion on the number of clusters? "
   ]
  },
  {
   "cell_type": "markdown",
   "metadata": {},
   "source": [
    "Put your code below"
   ]
  },
  {
   "cell_type": "code",
   "execution_count": 85,
   "metadata": {},
   "outputs": [
    {
     "name": "stderr",
     "output_type": "stream",
     "text": [
      "C:\\Anaconda\\lib\\site-packages\\sklearn\\cluster\\_kmeans.py:1036: UserWarning: KMeans is known to have a memory leak on Windows with MKL, when there are less chunks than available threads. You can avoid it by setting the environment variable OMP_NUM_THREADS=1.\n",
      "  warnings.warn(\n",
      "C:\\Anaconda\\lib\\site-packages\\sklearn\\cluster\\_kmeans.py:1036: UserWarning: KMeans is known to have a memory leak on Windows with MKL, when there are less chunks than available threads. You can avoid it by setting the environment variable OMP_NUM_THREADS=1.\n",
      "  warnings.warn(\n",
      "C:\\Anaconda\\lib\\site-packages\\sklearn\\cluster\\_kmeans.py:1036: UserWarning: KMeans is known to have a memory leak on Windows with MKL, when there are less chunks than available threads. You can avoid it by setting the environment variable OMP_NUM_THREADS=1.\n",
      "  warnings.warn(\n",
      "C:\\Anaconda\\lib\\site-packages\\sklearn\\cluster\\_kmeans.py:1036: UserWarning: KMeans is known to have a memory leak on Windows with MKL, when there are less chunks than available threads. You can avoid it by setting the environment variable OMP_NUM_THREADS=1.\n",
      "  warnings.warn(\n"
     ]
    },
    {
     "data": {
      "text/plain": [
       "(5, 'diag')"
      ]
     },
     "execution_count": 85,
     "metadata": {},
     "output_type": "execute_result"
    }
   ],
   "source": [
    "vars = ['sepal width (cm)','petal width (cm)']\n",
    "\n",
    "X = pdiris[vars]\n",
    "best_clusters, best_cov_type = gmm_best(X, n_components, cov_types)\n",
    "best_clusters, best_cov_type"
   ]
  },
  {
   "cell_type": "markdown",
   "metadata": {},
   "source": [
    "### Simulate data to test the method\n",
    "\n",
    "So far we have been looking at a dataset where we are not sure about the 'true' number of clusters and type of covariance matrix.\n",
    "\n",
    "In following cell, simulate data from a Gaussian mixture with three components with the mean and covariance matrix as following.\n",
    "\n",
    "1\\. $mean = (0,0),\\quad cov=1I$,\n",
    "\n",
    "2\\. $mean = (-6,3),\\quad cov = 16I,$\n",
    "\n",
    "3\\. $mean = (3,-4),\\quad cov=9I$."
   ]
  },
  {
   "cell_type": "code",
   "execution_count": 86,
   "metadata": {},
   "outputs": [],
   "source": [
    "mean_1 = [0, 0]\n",
    "mean_2 = [-6, 3]\n",
    "mean_3 = [3, -4]\n",
    "cov_1 = [[1, 0], [0, 1]]\n",
    "cov_2 = [[16, 0], [0, 16]]\n",
    "cov_3 = [[9, 0], [0, 9]]\n",
    "\n",
    "n_each = 100\n",
    "\n",
    "x = []\n",
    "y = []\n",
    "\n",
    "x1, y1 = np.random.multivariate_normal(mean_1, cov_1, n_each).T\n",
    "x2, y2 = np.random.multivariate_normal(mean_2, cov_2, n_each).T\n",
    "x3, y3 = np.random.multivariate_normal(mean_3, cov_3, n_each).T\n",
    "\n",
    "x = np.concatenate((x1, x2, x3), axis=None)\n",
    "y = np.concatenate((y1, y2, y3), axis=None)\n",
    "\n",
    "\n",
    "x = np.reshape(x, (-1,1))\n",
    "y = np.reshape(y, (-1,1))\n",
    "X = np.concatenate((x,y), axis = 1)\n",
    "\n"
   ]
  },
  {
   "cell_type": "code",
   "execution_count": 87,
   "metadata": {},
   "outputs": [
    {
     "name": "stdout",
     "output_type": "stream",
     "text": [
      "[[-1.57354601e+00 -7.30365645e-01]\n",
      " [ 2.53896900e-01  1.43046712e-01]\n",
      " [ 3.64770020e-01  4.99504954e-01]\n",
      " [ 4.71224430e-01 -5.33017726e-01]\n",
      " [ 5.91677884e-01  1.28042942e+00]\n",
      " [ 3.51107302e-01  2.64026607e-01]\n",
      " [-1.32001808e+00 -2.44095565e-01]\n",
      " [ 6.08326942e-01  1.51736451e+00]\n",
      " [-9.23192899e-01  5.15182191e-01]\n",
      " [ 6.08417902e-01 -2.08503461e+00]\n",
      " [ 4.98643266e-01 -1.14613434e+00]\n",
      " [-5.11024212e-01 -8.37157901e-01]\n",
      " [-7.22274632e-01 -5.99337732e-01]\n",
      " [ 1.60761604e+00 -1.70858232e-01]\n",
      " [ 8.94390815e-01  1.05859936e-02]\n",
      " [ 9.28710420e-01  1.30412122e+00]\n",
      " [-4.80582334e-02  3.72836384e-01]\n",
      " [-1.25256787e-01  1.03234661e+00]\n",
      " [ 4.34878205e-01  2.50931260e+00]\n",
      " [-3.45398983e+00 -2.40046628e+00]\n",
      " [-8.02979481e-01 -1.24586312e+00]\n",
      " [-6.07907334e-01 -5.55108570e-01]\n",
      " [ 7.62641653e-02  6.24380605e-01]\n",
      " [-5.69309125e-02 -3.16106375e-02]\n",
      " [ 1.59425264e+00 -7.27683214e-02]\n",
      " [-4.04687250e-02  1.20918077e+00]\n",
      " [-4.45745122e-01 -6.77473905e-01]\n",
      " [-2.16626182e+00 -1.46904013e+00]\n",
      " [-3.94994984e-01  6.93591405e-01]\n",
      " [-6.32219971e-01 -1.66865314e+00]\n",
      " [-7.89168061e-01  5.15884852e-01]\n",
      " [ 6.90455957e-01 -2.40629192e-01]\n",
      " [ 1.56161234e+00 -8.53375371e-01]\n",
      " [-2.15274018e-01  3.89380091e-01]\n",
      " [-1.28037550e+00 -3.21964279e-01]\n",
      " [-1.03276162e+00 -1.03710020e+00]\n",
      " [-1.23220987e+00  1.26381864e-01]\n",
      " [ 7.24982299e-01  9.76100641e-01]\n",
      " [ 1.53515517e+00  8.13300576e-01]\n",
      " [-2.51984672e-01 -8.47993721e-01]\n",
      " [-5.17119073e-01 -1.06286780e+00]\n",
      " [-6.53827649e-01  2.83512016e-01]\n",
      " [ 7.55926421e-01 -5.77491731e-01]\n",
      " [-1.73778934e+00 -1.09022650e+00]\n",
      " [ 6.43966126e-02  8.86393458e-01]\n",
      " [-1.07133612e+00  1.02189522e+00]\n",
      " [ 1.30075434e+00 -4.22971493e-01]\n",
      " [ 3.23876731e-01  2.24394323e+00]\n",
      " [ 7.58005182e-01 -8.49334770e-01]\n",
      " [ 1.95583052e-01 -7.16343939e-01]\n",
      " [ 1.61247705e+00  8.51048926e-01]\n",
      " [ 1.46052446e+00  5.60128177e-01]\n",
      " [-3.31806653e-01  8.49175101e-01]\n",
      " [-7.26147033e-01 -3.60579964e-01]\n",
      " [ 3.37856027e-02 -2.11394610e-01]\n",
      " [ 2.24561041e-01  2.01535680e-01]\n",
      " [ 8.07589676e-01  7.84618703e-01]\n",
      " [-3.31054339e-01  1.97153923e-01]\n",
      " [-1.07004918e+00 -1.36117305e+00]\n",
      " [-7.94831599e-01 -1.82141551e-01]\n",
      " [-1.03325347e+00  6.89809871e-01]\n",
      " [-2.18286811e-01 -1.00543483e+00]\n",
      " [-7.36653756e-02  1.61210856e+00]\n",
      " [-8.06335348e-01 -9.97310369e-01]\n",
      " [-2.02511242e-01 -2.02169042e-01]\n",
      " [-3.33854506e-01 -2.33707367e-01]\n",
      " [-5.77844228e-01 -3.72024694e-01]\n",
      " [-8.98970742e-01 -4.42494018e-01]\n",
      " [ 6.99146005e-01 -1.43615146e-01]\n",
      " [-2.71162171e-01  4.65715773e-01]\n",
      " [-5.81807293e-01 -7.65579935e-01]\n",
      " [ 2.38452200e-03  9.17292389e-01]\n",
      " [-2.90416870e-01 -1.35270037e+00]\n",
      " [-2.56947198e+00  1.61681919e+00]\n",
      " [-4.47773627e-02  6.97628799e-01]\n",
      " [-6.17943661e-01  8.07874858e-01]\n",
      " [-1.20523904e-01 -7.18408814e-01]\n",
      " [ 5.16219247e-01  2.19276975e+00]\n",
      " [ 2.14818364e+00  7.05055993e-01]\n",
      " [ 9.75761524e-01 -3.07727862e-01]\n",
      " [-5.33916694e-01  1.73327305e+00]\n",
      " [-8.86831446e-01  1.54297862e+00]\n",
      " [-2.39971385e-02  1.24864513e+00]\n",
      " [-5.72852523e-02  3.74009159e-01]\n",
      " [-6.40169550e-01  3.88388458e-01]\n",
      " [-5.45442609e-01  6.15407188e-01]\n",
      " [ 5.56948235e-01 -2.00867881e+00]\n",
      " [-8.12780170e-02 -4.64992153e-02]\n",
      " [-2.63231481e-01 -2.53709969e-01]\n",
      " [-4.38054387e-01 -1.95644729e+00]\n",
      " [-1.00951024e+00 -1.41844092e-03]\n",
      " [-3.17437508e-01 -8.08633947e-01]\n",
      " [-7.74839384e-01  7.70423762e-01]\n",
      " [-6.97183444e-01 -1.01826130e+00]\n",
      " [-5.70040349e-01 -1.61708734e+00]\n",
      " [ 8.69939692e-01 -1.68960348e-02]\n",
      " [ 4.02791985e-01  6.60583227e-01]\n",
      " [ 9.76999230e-03 -1.47236770e-01]\n",
      " [ 6.37172900e-01  1.12510856e+00]\n",
      " [ 3.09877418e-01  7.39110579e-02]\n",
      " [-8.56750520e+00 -6.31411112e-01]\n",
      " [-7.89795733e+00  6.87809743e+00]\n",
      " [-6.26459678e+00  8.42862775e+00]\n",
      " [-7.63407696e+00  1.46483415e+00]\n",
      " [ 1.34752569e-01 -3.11357008e+00]\n",
      " [-7.69494753e-01  6.36454332e+00]\n",
      " [-9.97209510e+00  4.73845579e+00]\n",
      " [-9.07660714e+00  4.73698741e+00]\n",
      " [-7.56550295e+00 -8.05245966e-01]\n",
      " [-6.56991123e+00  5.56377581e+00]\n",
      " [-1.12616595e+01  1.32123330e+00]\n",
      " [-8.51298635e+00  3.46666757e+00]\n",
      " [-4.68958407e+00  4.20199020e+00]\n",
      " [-5.56967266e+00 -1.68329030e+00]\n",
      " [-1.39757243e+01  2.25346518e+00]\n",
      " [-2.63757864e+00  5.43200934e+00]\n",
      " [-8.93214679e+00  6.94636020e+00]\n",
      " [-5.57757965e+00  2.21171761e+00]\n",
      " [-1.78427217e+00  6.73306616e+00]\n",
      " [-2.77580872e+00  4.04850902e+00]\n",
      " [-9.77519868e+00  2.30778147e+00]\n",
      " [-3.74063961e+00 -4.24218754e+00]\n",
      " [-8.00170143e-01  5.87320061e+00]\n",
      " [-1.00806701e+01  1.35626314e+00]\n",
      " [-7.66322406e+00  2.33477205e-01]\n",
      " [-1.48385759e+01  1.50597902e+00]\n",
      " [-5.86895940e+00  4.38094083e+00]\n",
      " [-9.94229717e+00  1.15014731e+00]\n",
      " [-1.13088623e+01 -1.87287190e-01]\n",
      " [-4.21977382e+00  2.32286787e+00]\n",
      " [-9.19473855e+00  3.08669536e+00]\n",
      " [-9.15579205e+00 -8.79994356e-01]\n",
      " [-5.25384068e+00  2.31728720e+00]\n",
      " [-7.22954209e+00  1.24041018e+00]\n",
      " [-5.25661344e+00  9.54329189e+00]\n",
      " [-8.06354191e+00  3.73172619e+00]\n",
      " [-8.26333597e+00 -5.35182797e-02]\n",
      " [ 2.41419505e+00  2.83791543e+00]\n",
      " [-3.19576768e+00  4.82498337e+00]\n",
      " [-2.94841268e+00  3.55798970e+00]\n",
      " [-7.53857426e+00  2.79254988e+00]\n",
      " [-1.41498939e+00  1.71175067e+00]\n",
      " [-9.85788281e+00  6.28680783e+00]\n",
      " [-1.74514916e+00 -2.29072092e+00]\n",
      " [-8.57675329e+00  1.18508014e+01]\n",
      " [-5.18632028e+00  1.96793013e+00]\n",
      " [-1.71867371e+01  1.10410073e+00]\n",
      " [-8.65129849e+00  4.54596019e+00]\n",
      " [-8.54910644e+00  9.10266084e+00]\n",
      " [-5.32703205e+00  4.06789735e+00]\n",
      " [-9.10969642e+00  2.47364035e+00]\n",
      " [-1.95233112e+00  4.25799313e+00]\n",
      " [-1.19152214e+00  4.21490195e+00]\n",
      " [-9.98034561e+00  2.53323053e+00]\n",
      " [-5.81259944e+00  6.35450346e+00]\n",
      " [-3.17471382e+00  2.27840358e+00]\n",
      " [-1.21380817e+01  2.92443883e+00]\n",
      " [-8.15252649e+00  6.26077457e+00]\n",
      " [-7.64475524e+00  3.79440936e+00]\n",
      " [-5.49253708e+00  4.02271782e+00]\n",
      " [-8.75103603e-01  8.90384814e+00]\n",
      " [-6.15630056e+00  4.80738561e+00]\n",
      " [-6.01114117e-01  2.76634138e+00]\n",
      " [-7.03294600e+00  9.70035636e-01]\n",
      " [-3.13861096e+00  5.52115500e+00]\n",
      " [-3.40443599e+00 -1.75215634e+00]\n",
      " [-3.58260831e+00  1.43085679e+00]\n",
      " [-3.16240042e+00  3.56519291e-01]\n",
      " [-5.36301468e+00  3.43218307e-01]\n",
      " [-6.84405104e+00 -2.48078770e+00]\n",
      " [-3.79521739e+00  2.36679256e+00]\n",
      " [-9.44578586e+00  5.93814490e+00]\n",
      " [-1.98085995e+00  4.00556796e+00]\n",
      " [-8.76393064e+00  5.79428843e+00]\n",
      " [-8.22106052e+00  5.88579724e+00]\n",
      " [-4.28087555e+00  4.14687253e+00]\n",
      " [-6.10011746e+00 -5.11782350e-02]\n",
      " [-5.15078607e+00 -1.07045756e-01]\n",
      " [-1.01230476e+01  4.49076296e+00]\n",
      " [-7.84205063e+00 -5.40093754e+00]\n",
      " [-9.18955140e+00  2.09124032e+00]\n",
      " [-5.62874012e+00  1.64406122e-01]\n",
      " [-7.84295081e+00  5.40536578e+00]\n",
      " [-9.17823397e+00  9.13353808e+00]\n",
      " [-6.51451877e+00 -4.25436036e+00]\n",
      " [-7.76412295e+00 -1.02613533e+00]\n",
      " [-5.35552850e+00  8.75735729e+00]\n",
      " [-5.69319712e+00  2.65587883e+00]\n",
      " [-7.32680737e+00 -9.43070026e-01]\n",
      " [-8.19424977e+00  4.68491827e+00]\n",
      " [-8.85273265e+00  6.01083353e+00]\n",
      " [-4.71343637e+00  6.97295594e+00]\n",
      " [-1.75584845e-01  1.17683341e+00]\n",
      " [-4.12066112e+00  4.67565811e-03]\n",
      " [-4.55988833e+00  3.84322607e+00]\n",
      " [-9.02336204e+00  5.65664243e+00]\n",
      " [-1.11730106e+01  6.18591835e+00]\n",
      " [-3.74369414e+00  6.70444538e+00]\n",
      " [-8.80463463e+00  2.75572994e+00]\n",
      " [-5.25341862e+00  6.65639793e+00]\n",
      " [ 2.92501069e+00 -5.36530074e+00]\n",
      " [ 7.87325108e+00 -4.23423230e+00]\n",
      " [ 1.30846756e+01 -9.34972664e+00]\n",
      " [ 2.34225990e+00 -9.90783007e+00]\n",
      " [ 1.72630577e+00 -3.14253238e+00]\n",
      " [ 4.09949336e+00 -8.70300637e-01]\n",
      " [ 4.45337777e+00 -3.28786745e+00]\n",
      " [ 2.29887037e+00 -3.16766043e+00]\n",
      " [ 5.67567454e+00 -4.42379928e+00]\n",
      " [ 6.96477579e+00 -4.14210488e-01]\n",
      " [ 4.93640533e+00  6.37795998e-01]\n",
      " [ 8.32145280e+00 -1.15539773e+01]\n",
      " [ 3.62083778e+00 -1.89621740e+00]\n",
      " [-2.11141234e-01 -3.70447108e+00]\n",
      " [ 5.02855814e+00 -2.91077008e+00]\n",
      " [ 2.08843000e+00  1.80341288e+00]\n",
      " [ 3.69103469e-01 -5.60689590e+00]\n",
      " [ 1.17106349e+00 -6.34680362e+00]\n",
      " [ 4.46559493e+00 -3.66175535e+00]\n",
      " [-4.22632590e+00  1.65637814e+00]\n",
      " [ 4.30351256e+00 -3.15628802e+00]\n",
      " [ 3.60839790e+00 -1.00850230e+00]\n",
      " [ 3.18558113e+00 -2.96766433e+00]\n",
      " [ 1.35575224e+00 -4.32188987e+00]\n",
      " [ 1.59443726e+00 -1.75347049e+00]\n",
      " [ 1.97281906e+00 -7.65220796e-01]\n",
      " [ 6.12315996e+00 -3.80479896e+00]\n",
      " [ 3.28391073e+00 -1.27808461e+00]\n",
      " [ 9.92228502e+00 -5.12154887e-01]\n",
      " [ 2.54288724e+00 -3.66725027e+00]\n",
      " [ 4.25086482e+00 -1.92650460e+00]\n",
      " [ 6.31360284e+00 -6.62895678e+00]\n",
      " [ 5.75669364e+00 -6.04858169e+00]\n",
      " [ 6.58919091e+00 -4.00950729e+00]\n",
      " [ 1.18101160e+00 -4.70855702e+00]\n",
      " [ 1.04481282e+01 -9.88532980e-01]\n",
      " [ 1.68853806e+00 -1.78101726e-01]\n",
      " [-3.27991314e+00 -3.59420112e+00]\n",
      " [ 2.62904304e-01 -3.89859760e+00]\n",
      " [ 6.01490433e+00 -6.00866677e+00]\n",
      " [ 4.06832736e+00 -5.79090551e-01]\n",
      " [ 3.28254046e+00 -4.43512685e+00]\n",
      " [ 1.05890002e+01 -4.76150825e+00]\n",
      " [ 2.12339889e+00 -3.32989503e+00]\n",
      " [ 1.10185826e+00 -1.11917834e+00]\n",
      " [ 3.43960595e+00 -9.94845989e+00]\n",
      " [ 2.72137984e+00 -4.05362415e+00]\n",
      " [ 3.90864517e-01 -3.85080233e+00]\n",
      " [-1.44147726e+00 -4.42156081e+00]\n",
      " [ 2.65147350e+00 -5.77146930e-02]\n",
      " [ 5.55824953e+00 -6.19665107e+00]\n",
      " [ 5.31050508e+00 -6.33705808e+00]\n",
      " [ 5.18683884e+00 -4.51935831e+00]\n",
      " [ 3.78792427e+00 -4.19947297e+00]\n",
      " [ 5.24575326e-01 -4.87532972e+00]\n",
      " [ 1.32622009e+00 -2.99209321e+00]\n",
      " [ 3.99433524e+00 -3.27869061e+00]\n",
      " [ 1.92074566e+00 -2.04667742e+00]\n",
      " [ 4.54083179e+00 -4.48687022e+00]\n",
      " [ 6.30181408e+00 -5.92322125e+00]\n",
      " [ 2.76758116e-03 -7.93400687e+00]\n",
      " [ 7.30053060e+00 -3.14123341e+00]\n",
      " [ 3.37788331e+00 -3.54543085e+00]\n",
      " [ 1.99454199e+00 -2.01918217e+00]\n",
      " [ 7.03152566e+00 -8.18765023e+00]\n",
      " [ 4.59215006e+00 -6.97253600e+00]\n",
      " [ 6.02617893e+00 -6.65950521e+00]\n",
      " [-6.96257213e-01 -7.90011416e+00]\n",
      " [ 1.54986895e-01 -6.20978243e+00]\n",
      " [ 8.24076138e-01 -7.68890580e+00]\n",
      " [ 3.40965609e+00 -6.32263049e+00]\n",
      " [ 5.11044437e+00 -1.38246914e+00]\n",
      " [ 2.73108970e+00 -4.05702417e+00]\n",
      " [ 3.17516982e+00 -5.43673597e+00]\n",
      " [ 7.48266473e+00 -5.49126279e-01]\n",
      " [ 5.43526470e+00 -5.03217682e+00]\n",
      " [ 3.14674051e+00 -2.41217963e+00]\n",
      " [ 8.03746576e+00 -4.75112212e+00]\n",
      " [ 6.66230368e+00 -4.19332594e-01]\n",
      " [ 2.84971968e+00  2.45316465e+00]\n",
      " [ 2.91104757e+00 -3.78164768e+00]\n",
      " [-3.78029017e-01 -5.93886042e+00]\n",
      " [ 1.98532656e+00 -4.24008633e+00]\n",
      " [ 3.56425267e-01 -5.14966301e+00]\n",
      " [ 1.01574740e+00  5.79119180e-02]\n",
      " [ 8.40456095e+00 -3.49254005e+00]\n",
      " [ 4.95382825e+00 -5.30313056e+00]\n",
      " [ 4.39747331e+00 -2.92855251e+00]\n",
      " [ 5.37326664e+00 -2.12307574e+00]\n",
      " [ 4.29653824e+00 -1.12238250e+00]\n",
      " [-8.10469167e-01 -5.09120240e+00]\n",
      " [ 3.52940531e+00  4.73365447e-02]\n",
      " [ 1.12549364e+00 -4.19231487e+00]\n",
      " [ 1.79305501e+00 -7.79272155e+00]\n",
      " [ 4.27112826e+00 -3.73465109e+00]\n",
      " [ 1.40155652e+00  1.27897354e+00]\n",
      " [-1.29997992e+00 -7.68791252e+00]\n",
      " [ 7.05080557e+00 -1.70129766e+00]\n",
      " [ 5.89426881e+00 -3.72567784e-01]\n",
      " [ 1.65101337e+00 -6.86824576e+00]]\n"
     ]
    }
   ],
   "source": [
    "print(X)"
   ]
  },
  {
   "cell_type": "markdown",
   "metadata": {},
   "source": [
    "### Test the method\n",
    "\n",
    "Below you will repeat the previous model search procedure to the synthetic data that you generated in the previous cell. We would like to test whether the optimal models will indeed be the one with three components and spherical covariance"
   ]
  },
  {
   "cell_type": "code",
   "execution_count": 88,
   "metadata": {},
   "outputs": [
    {
     "name": "stderr",
     "output_type": "stream",
     "text": [
      "C:\\Anaconda\\lib\\site-packages\\sklearn\\cluster\\_kmeans.py:1036: UserWarning: KMeans is known to have a memory leak on Windows with MKL, when there are less chunks than available threads. You can avoid it by setting the environment variable OMP_NUM_THREADS=2.\n",
      "  warnings.warn(\n",
      "C:\\Anaconda\\lib\\site-packages\\sklearn\\cluster\\_kmeans.py:1036: UserWarning: KMeans is known to have a memory leak on Windows with MKL, when there are less chunks than available threads. You can avoid it by setting the environment variable OMP_NUM_THREADS=2.\n",
      "  warnings.warn(\n",
      "C:\\Anaconda\\lib\\site-packages\\sklearn\\cluster\\_kmeans.py:1036: UserWarning: KMeans is known to have a memory leak on Windows with MKL, when there are less chunks than available threads. You can avoid it by setting the environment variable OMP_NUM_THREADS=2.\n",
      "  warnings.warn(\n",
      "C:\\Anaconda\\lib\\site-packages\\sklearn\\cluster\\_kmeans.py:1036: UserWarning: KMeans is known to have a memory leak on Windows with MKL, when there are less chunks than available threads. You can avoid it by setting the environment variable OMP_NUM_THREADS=2.\n",
      "  warnings.warn(\n"
     ]
    },
    {
     "data": {
      "text/plain": [
       "(3, 'spherical')"
      ]
     },
     "execution_count": 88,
     "metadata": {},
     "output_type": "execute_result"
    }
   ],
   "source": [
    "X = np.array(X)\n",
    "best_clusters, best_cov_type = gmm_best(X, n_components, cov_types)\n",
    "best_clusters, best_cov_type"
   ]
  },
  {
   "cell_type": "markdown",
   "metadata": {},
   "source": [
    "Conduct another simulation experiment generating data from a Gaussian mixture. Choose your own number of components, means and covariances."
   ]
  },
  {
   "cell_type": "code",
   "execution_count": 89,
   "metadata": {},
   "outputs": [
    {
     "name": "stderr",
     "output_type": "stream",
     "text": [
      "C:\\Anaconda\\lib\\site-packages\\sklearn\\cluster\\_kmeans.py:1036: UserWarning: KMeans is known to have a memory leak on Windows with MKL, when there are less chunks than available threads. You can avoid it by setting the environment variable OMP_NUM_THREADS=2.\n",
      "  warnings.warn(\n",
      "C:\\Anaconda\\lib\\site-packages\\sklearn\\cluster\\_kmeans.py:1036: UserWarning: KMeans is known to have a memory leak on Windows with MKL, when there are less chunks than available threads. You can avoid it by setting the environment variable OMP_NUM_THREADS=2.\n",
      "  warnings.warn(\n",
      "C:\\Anaconda\\lib\\site-packages\\sklearn\\cluster\\_kmeans.py:1036: UserWarning: KMeans is known to have a memory leak on Windows with MKL, when there are less chunks than available threads. You can avoid it by setting the environment variable OMP_NUM_THREADS=2.\n",
      "  warnings.warn(\n",
      "C:\\Anaconda\\lib\\site-packages\\sklearn\\cluster\\_kmeans.py:1036: UserWarning: KMeans is known to have a memory leak on Windows with MKL, when there are less chunks than available threads. You can avoid it by setting the environment variable OMP_NUM_THREADS=2.\n",
      "  warnings.warn(\n"
     ]
    },
    {
     "data": {
      "text/plain": [
       "(4, 'spherical')"
      ]
     },
     "execution_count": 89,
     "metadata": {},
     "output_type": "execute_result"
    }
   ],
   "source": [
    "mean_4 = [8, 7]\n",
    "cov_4 = [[2, 0], [0, 5]]\n",
    "\n",
    "x4, y4 = np.random.multivariate_normal(mean_4, cov_4, n_each).T\n",
    "\n",
    "x = np.concatenate((x, x4), axis=None)\n",
    "y = np.concatenate((y, y4), axis=None)\n",
    "x = np.reshape(x, (-1,1))\n",
    "y = np.reshape(y, (-1,1))\n",
    "X = np.concatenate((x,y), axis = 1)\n",
    "\n",
    "best_clusters, best_cov_type = gmm_best(X, n_components, cov_types)\n",
    "best_clusters, best_cov_type"
   ]
  },
  {
   "cell_type": "markdown",
   "metadata": {},
   "source": [
    "## Overfitted (Bayesian) Gaussian Mixtures\n",
    "\n",
    "Now we will explore what happens when we fit a model with more components than the ones in the data. "
   ]
  },
  {
   "cell_type": "code",
   "execution_count": 90,
   "metadata": {},
   "outputs": [
    {
     "data": {
      "text/html": [
       "<div>\n",
       "<style scoped>\n",
       "    .dataframe tbody tr th:only-of-type {\n",
       "        vertical-align: middle;\n",
       "    }\n",
       "\n",
       "    .dataframe tbody tr th {\n",
       "        vertical-align: top;\n",
       "    }\n",
       "\n",
       "    .dataframe thead th {\n",
       "        text-align: right;\n",
       "    }\n",
       "</style>\n",
       "<table border=\"1\" class=\"dataframe\">\n",
       "  <thead>\n",
       "    <tr style=\"text-align: right;\">\n",
       "      <th></th>\n",
       "      <th># of individuals</th>\n",
       "    </tr>\n",
       "  </thead>\n",
       "  <tbody>\n",
       "    <tr>\n",
       "      <th>1</th>\n",
       "      <td>201.0</td>\n",
       "    </tr>\n",
       "    <tr>\n",
       "      <th>2</th>\n",
       "      <td>204.0</td>\n",
       "    </tr>\n",
       "    <tr>\n",
       "      <th>3</th>\n",
       "      <td>34.0</td>\n",
       "    </tr>\n",
       "    <tr>\n",
       "      <th>4</th>\n",
       "      <td>23.0</td>\n",
       "    </tr>\n",
       "    <tr>\n",
       "      <th>5</th>\n",
       "      <td>83.0</td>\n",
       "    </tr>\n",
       "    <tr>\n",
       "      <th>6</th>\n",
       "      <td>55.0</td>\n",
       "    </tr>\n",
       "  </tbody>\n",
       "</table>\n",
       "</div>"
      ],
      "text/plain": [
       "   # of individuals\n",
       "1             201.0\n",
       "2             204.0\n",
       "3              34.0\n",
       "4              23.0\n",
       "5              83.0\n",
       "6              55.0"
      ]
     },
     "execution_count": 90,
     "metadata": {},
     "output_type": "execute_result"
    }
   ],
   "source": [
    "# Number of samples per component\n",
    "n_samples = 200\n",
    "X = np.r_[np.random.randn(n_samples, 2), \n",
    "          .4 * np.random.randn(n_samples, 2) + np.array([-6, 3]), \n",
    "         3* np.random.randn(n_samples, 2) + np.array([3, -4])] \n",
    "\n",
    "gmm = GaussianMixture(n_components=6,covariance_type='spherical')\n",
    "\n",
    "gmm.fit(X)\n",
    "probs = gmm.predict_proba(X)\n",
    "results = np.sum(probs,axis=0)\n",
    "results = pd.DataFrame(results.round(0), columns = ['# of individuals'], index=range(1,7))\n",
    "results"
   ]
  },
  {
   "cell_type": "code",
   "execution_count": 91,
   "metadata": {},
   "outputs": [
    {
     "data": {
      "text/plain": [
       "<matplotlib.collections.PathCollection at 0x1f73ba8a4c0>"
      ]
     },
     "execution_count": 91,
     "metadata": {},
     "output_type": "execute_result"
    },
    {
     "data": {
      "image/png": "[encoded data removed]",
      "text/plain": [
       "<Figure size 432x288 with 1 Axes>"
      ]
     },
     "metadata": {
      "needs_background": "light"
     },
     "output_type": "display_data"
    }
   ],
   "source": [
    "labels = gmm.predict(X)\n",
    "plt.scatter(X[:, 0], X[:, 1], c=labels) "
   ]
  },
  {
   "cell_type": "markdown",
   "metadata": {},
   "source": [
    "We will also apply the fully Bayesian model to the same data with a Dirichlet prior on the cluster probabilities with a low hyperparameter (weight_concentration_prior) of 0.01. This choice is going to penalise redundant clusters by not allocating individuals to them unless it is necessaray "
   ]
  },
  {
   "cell_type": "code",
   "execution_count": 92,
   "metadata": {},
   "outputs": [
    {
     "data": {
      "text/html": [
       "<div>\n",
       "<style scoped>\n",
       "    .dataframe tbody tr th:only-of-type {\n",
       "        vertical-align: middle;\n",
       "    }\n",
       "\n",
       "    .dataframe tbody tr th {\n",
       "        vertical-align: top;\n",
       "    }\n",
       "\n",
       "    .dataframe thead th {\n",
       "        text-align: right;\n",
       "    }\n",
       "</style>\n",
       "<table border=\"1\" class=\"dataframe\">\n",
       "  <thead>\n",
       "    <tr style=\"text-align: right;\">\n",
       "      <th></th>\n",
       "      <th># of individuals</th>\n",
       "    </tr>\n",
       "  </thead>\n",
       "  <tbody>\n",
       "    <tr>\n",
       "      <th>1</th>\n",
       "      <td>206.0</td>\n",
       "    </tr>\n",
       "    <tr>\n",
       "      <th>2</th>\n",
       "      <td>201.0</td>\n",
       "    </tr>\n",
       "    <tr>\n",
       "      <th>3</th>\n",
       "      <td>0.0</td>\n",
       "    </tr>\n",
       "    <tr>\n",
       "      <th>4</th>\n",
       "      <td>66.0</td>\n",
       "    </tr>\n",
       "    <tr>\n",
       "      <th>5</th>\n",
       "      <td>127.0</td>\n",
       "    </tr>\n",
       "    <tr>\n",
       "      <th>6</th>\n",
       "      <td>0.0</td>\n",
       "    </tr>\n",
       "  </tbody>\n",
       "</table>\n",
       "</div>"
      ],
      "text/plain": [
       "   # of individuals\n",
       "1             206.0\n",
       "2             201.0\n",
       "3               0.0\n",
       "4              66.0\n",
       "5             127.0\n",
       "6               0.0"
      ]
     },
     "execution_count": 92,
     "metadata": {},
     "output_type": "execute_result"
    }
   ],
   "source": [
    "Bgmm = BayesianGaussianMixture(n_components=6,covariance_type='full',\n",
    "                               weight_concentration_prior=0.01, max_iter = 200)\n",
    "Bgmm.fit(X)\n",
    "probs = Bgmm.predict_proba(X)\n",
    "results = np.sum(probs,axis=0)\n",
    "results = pd.DataFrame(results.round(0), columns = ['# of individuals'], index=range(1,7))\n",
    "results"
   ]
  },
  {
   "cell_type": "code",
   "execution_count": 93,
   "metadata": {},
   "outputs": [
    {
     "data": {
      "text/plain": [
       "<matplotlib.collections.PathCollection at 0x1f73baba130>"
      ]
     },
     "execution_count": 93,
     "metadata": {},
     "output_type": "execute_result"
    },
    {
     "data": {
      "image/png": "[encoded data removed]",
      "text/plain": [
       "<Figure size 432x288 with 1 Axes>"
      ]
     },
     "metadata": {
      "needs_background": "light"
     },
     "output_type": "display_data"
    }
   ],
   "source": [
    "labels = Bgmm.predict(X)\n",
    "plt.scatter(X[:, 0], X[:, 1], c=labels)"
   ]
  },
  {
   "cell_type": "markdown",
   "metadata": {},
   "source": [
    "Fit the fully Bayesian approach to the Iris dataset and check the resulting number of clusters. Put your code below."
   ]
  },
  {
   "cell_type": "code",
   "execution_count": 94,
   "metadata": {},
   "outputs": [
    {
     "name": "stderr",
     "output_type": "stream",
     "text": [
      "C:\\Anaconda\\lib\\site-packages\\sklearn\\cluster\\_kmeans.py:1036: UserWarning: KMeans is known to have a memory leak on Windows with MKL, when there are less chunks than available threads. You can avoid it by setting the environment variable OMP_NUM_THREADS=1.\n",
      "  warnings.warn(\n",
      "C:\\Anaconda\\lib\\site-packages\\sklearn\\cluster\\_kmeans.py:1036: UserWarning: KMeans is known to have a memory leak on Windows with MKL, when there are less chunks than available threads. You can avoid it by setting the environment variable OMP_NUM_THREADS=1.\n",
      "  warnings.warn(\n",
      "C:\\Anaconda\\lib\\site-packages\\sklearn\\cluster\\_kmeans.py:1036: UserWarning: KMeans is known to have a memory leak on Windows with MKL, when there are less chunks than available threads. You can avoid it by setting the environment variable OMP_NUM_THREADS=1.\n",
      "  warnings.warn(\n",
      "C:\\Anaconda\\lib\\site-packages\\sklearn\\cluster\\_kmeans.py:1036: UserWarning: KMeans is known to have a memory leak on Windows with MKL, when there are less chunks than available threads. You can avoid it by setting the environment variable OMP_NUM_THREADS=1.\n",
      "  warnings.warn(\n"
     ]
    },
    {
     "data": {
      "text/html": [
       "<div>\n",
       "<style scoped>\n",
       "    .dataframe tbody tr th:only-of-type {\n",
       "        vertical-align: middle;\n",
       "    }\n",
       "\n",
       "    .dataframe tbody tr th {\n",
       "        vertical-align: top;\n",
       "    }\n",
       "\n",
       "    .dataframe thead th {\n",
       "        text-align: right;\n",
       "    }\n",
       "</style>\n",
       "<table border=\"1\" class=\"dataframe\">\n",
       "  <thead>\n",
       "    <tr style=\"text-align: right;\">\n",
       "      <th></th>\n",
       "      <th># of individuals</th>\n",
       "    </tr>\n",
       "  </thead>\n",
       "  <tbody>\n",
       "    <tr>\n",
       "      <th>0</th>\n",
       "      <td>0.0</td>\n",
       "    </tr>\n",
       "    <tr>\n",
       "      <th>1</th>\n",
       "      <td>69.0</td>\n",
       "    </tr>\n",
       "    <tr>\n",
       "      <th>2</th>\n",
       "      <td>2.0</td>\n",
       "    </tr>\n",
       "    <tr>\n",
       "      <th>3</th>\n",
       "      <td>19.0</td>\n",
       "    </tr>\n",
       "    <tr>\n",
       "      <th>4</th>\n",
       "      <td>11.0</td>\n",
       "    </tr>\n",
       "    <tr>\n",
       "      <th>5</th>\n",
       "      <td>0.0</td>\n",
       "    </tr>\n",
       "    <tr>\n",
       "      <th>6</th>\n",
       "      <td>0.0</td>\n",
       "    </tr>\n",
       "    <tr>\n",
       "      <th>7</th>\n",
       "      <td>0.0</td>\n",
       "    </tr>\n",
       "    <tr>\n",
       "      <th>8</th>\n",
       "      <td>49.0</td>\n",
       "    </tr>\n",
       "  </tbody>\n",
       "</table>\n",
       "</div>"
      ],
      "text/plain": [
       "   # of individuals\n",
       "0               0.0\n",
       "1              69.0\n",
       "2               2.0\n",
       "3              19.0\n",
       "4              11.0\n",
       "5               0.0\n",
       "6               0.0\n",
       "7               0.0\n",
       "8              49.0"
      ]
     },
     "execution_count": 94,
     "metadata": {},
     "output_type": "execute_result"
    }
   ],
   "source": [
    "n_components_list = np.arange(1,10)\n",
    "cov_types = ['spherical', 'tied', 'diag', 'full']\n",
    "vars = ['sepal length (cm)', 'sepal width (cm)', 'petal length (cm)', 'petal width (cm)']\n",
    "X = pdiris[vars]\n",
    "\n",
    "results = []\n",
    "for n in n_components_list:\n",
    "    for c in cov_types:\n",
    "        bgmm = BayesianGaussianMixture(\n",
    "            n_components=n, covariance_type=c,  max_iter = 200, weight_concentration_prior=0.01, random_state=None)\n",
    "        bgmm.fit(X)\n",
    "        probs = bgmm.predict_proba(X)\n",
    "        results = np.sum(probs,axis=0)\n",
    "results = pd.DataFrame(results.round(0), columns = ['# of individuals'])\n",
    "results"
   ]
  },
  {
   "cell_type": "markdown",
   "metadata": {},
   "source": [
    "## K-Means Clustering and PCA of Human Activity Recognition"
   ]
  },
  {
   "cell_type": "markdown",
   "metadata": {},
   "source": [
    "### Dataset info\n",
    "\n",
    "Human Activity Recognition database built from the recordings of 30 subjects performing activities of daily living (ADL) while carrying a waist-mounted smartphone with embedded inertial sensors. The experiments have been carried out with a group of 30 volunteers within an age bracket of 19-48 years. Each person performed six activities (*WALKING, WALKING_UPSTAIRS, WALKING_DOWNSTAIRS, SITTING, STANDING, LAYING*) wearing a smartphone (Samsung Galaxy S II) on the waist. Using its embedded accelerometer and gyroscope, we captured 3-axial linear acceleration and 3-axial angular velocity at a constant rate of 50Hz. The experiments have been video-recorded to label the data manually. "
   ]
  },
  {
   "cell_type": "code",
   "execution_count": 95,
   "metadata": {},
   "outputs": [],
   "source": [
    "Data = pd.read_csv('train.csv') "
   ]
  },
  {
   "cell_type": "code",
   "execution_count": 96,
   "metadata": {},
   "outputs": [
    {
     "data": {
      "text/html": [
       "<div>\n",
       "<style scoped>\n",
       "    .dataframe tbody tr th:only-of-type {\n",
       "        vertical-align: middle;\n",
       "    }\n",
       "\n",
       "    .dataframe tbody tr th {\n",
       "        vertical-align: top;\n",
       "    }\n",
       "\n",
       "    .dataframe thead th {\n",
       "        text-align: right;\n",
       "    }\n",
       "</style>\n",
       "<table border=\"1\" class=\"dataframe\">\n",
       "  <thead>\n",
       "    <tr style=\"text-align: right;\">\n",
       "      <th></th>\n",
       "      <th>rn</th>\n",
       "      <th>activity</th>\n",
       "      <th>tBodyAcc.mean.X</th>\n",
       "      <th>tBodyAcc.mean.Y</th>\n",
       "      <th>tBodyAcc.mean.Z</th>\n",
       "      <th>tBodyAcc.std.X</th>\n",
       "      <th>tBodyAcc.std.Y</th>\n",
       "      <th>tBodyAcc.std.Z</th>\n",
       "      <th>tBodyAcc.mad.X</th>\n",
       "      <th>tBodyAcc.mad.Y</th>\n",
       "      <th>...</th>\n",
       "      <th>fBodyBodyGyroJerkMag.meanFreq</th>\n",
       "      <th>fBodyBodyGyroJerkMag.skewness</th>\n",
       "      <th>fBodyBodyGyroJerkMag.kurtosis</th>\n",
       "      <th>angle.tBodyAccMean.gravity</th>\n",
       "      <th>angle.tBodyAccJerkMean.gravityMean</th>\n",
       "      <th>angle.tBodyGyroMean.gravityMean</th>\n",
       "      <th>angle.tBodyGyroJerkMean.gravityMean</th>\n",
       "      <th>angle.X.gravityMean</th>\n",
       "      <th>angle.Y.gravityMean</th>\n",
       "      <th>angle.Z.gravityMean</th>\n",
       "    </tr>\n",
       "  </thead>\n",
       "  <tbody>\n",
       "    <tr>\n",
       "      <th>2422</th>\n",
       "      <td>6931</td>\n",
       "      <td>WALKING_DOWNSTAIRS</td>\n",
       "      <td>0.439</td>\n",
       "      <td>-0.02900</td>\n",
       "      <td>-0.1490</td>\n",
       "      <td>0.208</td>\n",
       "      <td>-0.236</td>\n",
       "      <td>-0.253</td>\n",
       "      <td>0.152</td>\n",
       "      <td>-0.269</td>\n",
       "      <td>...</td>\n",
       "      <td>-0.0308</td>\n",
       "      <td>-0.224</td>\n",
       "      <td>-0.604</td>\n",
       "      <td>-0.70000</td>\n",
       "      <td>0.588000</td>\n",
       "      <td>-0.856</td>\n",
       "      <td>0.9470</td>\n",
       "      <td>-0.925</td>\n",
       "      <td>0.122</td>\n",
       "      <td>-0.03080</td>\n",
       "    </tr>\n",
       "    <tr>\n",
       "      <th>1275</th>\n",
       "      <td>3628</td>\n",
       "      <td>STANDING</td>\n",
       "      <td>0.264</td>\n",
       "      <td>-0.03860</td>\n",
       "      <td>-0.0984</td>\n",
       "      <td>-0.979</td>\n",
       "      <td>-0.876</td>\n",
       "      <td>-0.958</td>\n",
       "      <td>-0.985</td>\n",
       "      <td>-0.890</td>\n",
       "      <td>...</td>\n",
       "      <td>-0.1870</td>\n",
       "      <td>0.200</td>\n",
       "      <td>-0.147</td>\n",
       "      <td>-0.01550</td>\n",
       "      <td>-0.231000</td>\n",
       "      <td>-0.266</td>\n",
       "      <td>-0.0952</td>\n",
       "      <td>-0.729</td>\n",
       "      <td>0.268</td>\n",
       "      <td>-0.06250</td>\n",
       "    </tr>\n",
       "    <tr>\n",
       "      <th>951</th>\n",
       "      <td>2727</td>\n",
       "      <td>STANDING</td>\n",
       "      <td>0.273</td>\n",
       "      <td>-0.02620</td>\n",
       "      <td>-0.0979</td>\n",
       "      <td>-0.991</td>\n",
       "      <td>-0.944</td>\n",
       "      <td>-0.983</td>\n",
       "      <td>-0.993</td>\n",
       "      <td>-0.940</td>\n",
       "      <td>...</td>\n",
       "      <td>-0.0402</td>\n",
       "      <td>-0.398</td>\n",
       "      <td>-0.775</td>\n",
       "      <td>0.00179</td>\n",
       "      <td>-0.000998</td>\n",
       "      <td>0.701</td>\n",
       "      <td>-0.7600</td>\n",
       "      <td>-0.813</td>\n",
       "      <td>0.226</td>\n",
       "      <td>-0.00436</td>\n",
       "    </tr>\n",
       "    <tr>\n",
       "      <th>3580</th>\n",
       "      <td>10206</td>\n",
       "      <td>LAYING</td>\n",
       "      <td>0.306</td>\n",
       "      <td>-0.01430</td>\n",
       "      <td>-0.1170</td>\n",
       "      <td>-0.977</td>\n",
       "      <td>-0.992</td>\n",
       "      <td>-0.992</td>\n",
       "      <td>-0.977</td>\n",
       "      <td>-0.991</td>\n",
       "      <td>...</td>\n",
       "      <td>0.2610</td>\n",
       "      <td>-0.186</td>\n",
       "      <td>-0.539</td>\n",
       "      <td>-0.01680</td>\n",
       "      <td>0.311000</td>\n",
       "      <td>-0.186</td>\n",
       "      <td>-0.7890</td>\n",
       "      <td>0.441</td>\n",
       "      <td>-0.502</td>\n",
       "      <td>-0.48800</td>\n",
       "    </tr>\n",
       "    <tr>\n",
       "      <th>1592</th>\n",
       "      <td>4555</td>\n",
       "      <td>STANDING</td>\n",
       "      <td>0.282</td>\n",
       "      <td>-0.00933</td>\n",
       "      <td>-0.1020</td>\n",
       "      <td>-0.992</td>\n",
       "      <td>-0.948</td>\n",
       "      <td>-0.952</td>\n",
       "      <td>-0.993</td>\n",
       "      <td>-0.944</td>\n",
       "      <td>...</td>\n",
       "      <td>0.2240</td>\n",
       "      <td>-0.671</td>\n",
       "      <td>-0.931</td>\n",
       "      <td>0.01610</td>\n",
       "      <td>-0.049700</td>\n",
       "      <td>-0.180</td>\n",
       "      <td>-0.0359</td>\n",
       "      <td>-0.765</td>\n",
       "      <td>0.259</td>\n",
       "      <td>0.03580</td>\n",
       "    </tr>\n",
       "  </tbody>\n",
       "</table>\n",
       "<p>5 rows × 563 columns</p>\n",
       "</div>"
      ],
      "text/plain": [
       "         rn            activity  tBodyAcc.mean.X  tBodyAcc.mean.Y  \\\n",
       "2422   6931  WALKING_DOWNSTAIRS            0.439         -0.02900   \n",
       "1275   3628            STANDING            0.264         -0.03860   \n",
       "951    2727            STANDING            0.273         -0.02620   \n",
       "3580  10206              LAYING            0.306         -0.01430   \n",
       "1592   4555            STANDING            0.282         -0.00933   \n",
       "\n",
       "      tBodyAcc.mean.Z  tBodyAcc.std.X  tBodyAcc.std.Y  tBodyAcc.std.Z  \\\n",
       "2422          -0.1490           0.208          -0.236          -0.253   \n",
       "1275          -0.0984          -0.979          -0.876          -0.958   \n",
       "951           -0.0979          -0.991          -0.944          -0.983   \n",
       "3580          -0.1170          -0.977          -0.992          -0.992   \n",
       "1592          -0.1020          -0.992          -0.948          -0.952   \n",
       "\n",
       "      tBodyAcc.mad.X  tBodyAcc.mad.Y  ...  fBodyBodyGyroJerkMag.meanFreq  \\\n",
       "2422           0.152          -0.269  ...                        -0.0308   \n",
       "1275          -0.985          -0.890  ...                        -0.1870   \n",
       "951           -0.993          -0.940  ...                        -0.0402   \n",
       "3580          -0.977          -0.991  ...                         0.2610   \n",
       "1592          -0.993          -0.944  ...                         0.2240   \n",
       "\n",
       "      fBodyBodyGyroJerkMag.skewness  fBodyBodyGyroJerkMag.kurtosis  \\\n",
       "2422                         -0.224                         -0.604   \n",
       "1275                          0.200                         -0.147   \n",
       "951                          -0.398                         -0.775   \n",
       "3580                         -0.186                         -0.539   \n",
       "1592                         -0.671                         -0.931   \n",
       "\n",
       "      angle.tBodyAccMean.gravity  angle.tBodyAccJerkMean.gravityMean  \\\n",
       "2422                    -0.70000                            0.588000   \n",
       "1275                    -0.01550                           -0.231000   \n",
       "951                      0.00179                           -0.000998   \n",
       "3580                    -0.01680                            0.311000   \n",
       "1592                     0.01610                           -0.049700   \n",
       "\n",
       "      angle.tBodyGyroMean.gravityMean  angle.tBodyGyroJerkMean.gravityMean  \\\n",
       "2422                           -0.856                               0.9470   \n",
       "1275                           -0.266                              -0.0952   \n",
       "951                             0.701                              -0.7600   \n",
       "3580                           -0.186                              -0.7890   \n",
       "1592                           -0.180                              -0.0359   \n",
       "\n",
       "      angle.X.gravityMean  angle.Y.gravityMean  angle.Z.gravityMean  \n",
       "2422               -0.925                0.122             -0.03080  \n",
       "1275               -0.729                0.268             -0.06250  \n",
       "951                -0.813                0.226             -0.00436  \n",
       "3580                0.441               -0.502             -0.48800  \n",
       "1592               -0.765                0.259              0.03580  \n",
       "\n",
       "[5 rows x 563 columns]"
      ]
     },
     "execution_count": 96,
     "metadata": {},
     "output_type": "execute_result"
    }
   ],
   "source": [
    "Data.sample(5)"
   ]
  },
  {
   "cell_type": "code",
   "execution_count": 97,
   "metadata": {},
   "outputs": [
    {
     "name": "stdout",
     "output_type": "stream",
     "text": [
      "Shape of the data set: (3609, 563)\n"
     ]
    }
   ],
   "source": [
    "print('Shape of the data set: ' + str(Data.shape))"
   ]
  },
  {
   "cell_type": "code",
   "execution_count": 98,
   "metadata": {},
   "outputs": [
    {
     "name": "stdout",
     "output_type": "stream",
     "text": [
      "Activity labels: ['STANDING', 'SITTING', 'LAYING', 'WALKING', 'WALKING_DOWNSTAIRS', 'WALKING_UPSTAIRS']\n"
     ]
    }
   ],
   "source": [
    "#save labels as string\n",
    "Labels = Data['activity']\n",
    "Data = Data.drop(['rn', 'activity'], axis = 1)\n",
    "Labels_keys = Labels.unique().tolist()\n",
    "Labels = np.array(Labels)\n",
    "print('Activity labels: ' + str(Labels_keys))"
   ]
  },
  {
   "cell_type": "code",
   "execution_count": 99,
   "metadata": {},
   "outputs": [
    {
     "name": "stdout",
     "output_type": "stream",
     "text": [
      "Amount of rows with missing values: 0\n"
     ]
    }
   ],
   "source": [
    "#check for missing values\n",
    "Temp = pd.DataFrame(Data.isnull().sum())\n",
    "Temp.columns = ['Sum']\n",
    "print('Amount of rows with missing values: ' + str(len(Temp.index[Temp['Sum'] > 0])) )"
   ]
  },
  {
   "cell_type": "code",
   "execution_count": 100,
   "metadata": {},
   "outputs": [],
   "source": [
    "#normalize the dataset\n",
    "scaler = StandardScaler()\n",
    "Data = scaler.fit_transform(Data)"
   ]
  },
  {
   "cell_type": "markdown",
   "metadata": {},
   "source": [
    "Apply k-means clustering with different number of clusters and find the optimal number of clusters. Plot sum of squared distances of samples to their closest cluster center versus number of cluster. "
   ]
  },
  {
   "cell_type": "code",
   "execution_count": 101,
   "metadata": {},
   "outputs": [
    {
     "name": "stderr",
     "output_type": "stream",
     "text": [
      "C:\\Anaconda\\lib\\site-packages\\sklearn\\cluster\\_kmeans.py:1036: UserWarning: KMeans is known to have a memory leak on Windows with MKL, when there are less chunks than available threads. You can avoid it by setting the environment variable OMP_NUM_THREADS=15.\n",
      "  warnings.warn(\n"
     ]
    },
    {
     "data": {
      "image/png": "[encoded data removed]",
      "text/plain": [
       "<Figure size 432x288 with 1 Axes>"
      ]
     },
     "metadata": {
      "needs_background": "light"
     },
     "output_type": "display_data"
    },
    {
     "data": {
      "image/png": "[encoded data removed]",
      "text/plain": [
       "<Figure size 432x288 with 1 Axes>"
      ]
     },
     "metadata": {
      "needs_background": "light"
     },
     "output_type": "display_data"
    }
   ],
   "source": [
    "from sklearn.cluster import KMeans\n",
    "from scipy.spatial.distance import cdist\n",
    "from matplotlib import pyplot as plt\n",
    "def sum_of_squared_distances_to_closest_cluster_versus_number_of_clusters(data, max_clusters = 10):\n",
    "    sse = []\n",
    "    for k in range(1, max_clusters):\n",
    "        kmeans = KMeans(n_clusters=k).fit(data)\n",
    "        sse.append(sum(np.min(cdist(data, kmeans.cluster_centers_, 'euclidean'), axis=1)) / data.shape[0])\n",
    "    return sse\n",
    "\n",
    "def plot_kmeans(kmeans, data):\n",
    "    labels = kmeans.predict(data)\n",
    "    plt.scatter(data[:, 0], data[:, 1], c=labels, s=40, cmap='viridis')\n",
    "    plt.scatter(kmeans.cluster_centers_[:, 0], kmeans.cluster_centers_[:, 1], c='black', s=200, alpha=0.5)\n",
    "def plot_sse(sse):\n",
    "    plt.plot(range(1, 10), sse, 'bx-')\n",
    "    plt.xlabel('k')\n",
    "    plt.ylabel('Sum of squared distances')\n",
    "    plt.title('Elbow Method For Optimal k')\n",
    "    plt.show()\n",
    "kmeans = KMeans(n_clusters=10, random_state=0).fit(Data)\n",
    "#as long as the clusters are increasing, the sum of squares error is decreasing.\n",
    "plot_kmeans(kmeans, Data)#this is the n_clusters = 10\n",
    "plt.figure()\n",
    "sse = sum_of_squared_distances_to_closest_cluster_versus_number_of_clusters(Data, max_clusters = 10)\n",
    "plot_sse(sse)"
   ]
  },
  {
   "cell_type": "markdown",
   "metadata": {},
   "source": [
    "Apply PCA and analyze principal components for dimensionality reduction."
   ]
  },
  {
   "cell_type": "code",
   "execution_count": 102,
   "metadata": {},
   "outputs": [
    {
     "name": "stdout",
     "output_type": "stream",
     "text": [
      "Shape of the data set: (3609, 561)\n",
      "Shape of the data set: (3609, 3)\n"
     ]
    }
   ],
   "source": [
    "from sklearn.decomposition import PCA\n",
    "pca = PCA(n_components=3).fit(Data)\n",
    "Data_pca = pca.transform(Data)\n",
    "X_pca = pca.inverse_transform(Data_pca)\n",
    "print('Shape of the data set: ' + str(Data.shape))\n",
    "print('Shape of the data set: ' + str(Data_pca.shape))"
   ]
  },
  {
   "cell_type": "markdown",
   "metadata": {},
   "source": [
    "Perform K-means clustering on the dimensionality-reduced data."
   ]
  },
  {
   "cell_type": "code",
   "execution_count": 52,
   "metadata": {},
   "outputs": [
    {
     "data": {
      "image/png": "[encoded data removed]",
      "text/plain": [
       "<Figure size 432x288 with 1 Axes>"
      ]
     },
     "metadata": {
      "needs_background": "light"
     },
     "output_type": "display_data"
    }
   ],
   "source": [
    "kmeans = KMeans(n_clusters=3).fit(Data_pca)\n",
    "def plot_kmeans(kmeans, data):\n",
    "    labels = kmeans.predict(data)\n",
    "    plt.scatter(data[:, 0], data[:, 1], c=labels, s=40, cmap='viridis')\n",
    "    plt.scatter(kmeans.cluster_centers_[:, 0], kmeans.cluster_centers_[:, 1], c='black', s=200, alpha=0.5)\n",
    "plot_kmeans(kmeans,Data_pca)\n"
   ]
  },
  {
   "cell_type": "code",
   "execution_count": null,
   "metadata": {},
   "outputs": [],
   "source": []
  },
  {
   "cell_type": "code",
   "execution_count": null,
   "metadata": {},
   "outputs": [],
   "source": []
  }
 ],
 "metadata": {
  "kernelspec": {
   "display_name": "Python 3 (ipykernel)",
   "language": "python",
   "name": "python3"
  },
  "language_info": {
   "codemirror_mode": {
    "name": "ipython",
    "version": 3
   },
   "file_extension": ".py",
   "mimetype": "text/x-python",
   "name": "python",
   "nbconvert_exporter": "python",
   "pygments_lexer": "ipython3",
   "version": "3.9.12"
  }
 },
 "nbformat": 4,
 "nbformat_minor": 2
}
